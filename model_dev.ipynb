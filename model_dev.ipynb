{
 "cells": [
  {
   "cell_type": "code",
   "execution_count": null,
   "metadata": {},
   "outputs": [],
   "source": [
    "import librosa\n",
    "import numpy as np\n",
    "import pandas as pd\n",
    "\n",
    "df = pd.read_parquet('audio_dataset_bytes.parquet')\n",
    "metadata = np.load('metadata.npy', allow_pickle=True).item()\n",
    "\n",
    "# convert Byte to 2D matrix\n",
    "def bytes_to_2d(row):\n",
    "    return np.frombuffer(\n",
    "        row['feature_bytes'], \n",
    "        dtype=np.float32\n",
    "    ).reshape(row['feature_shape'])\n",
    "\n",
    "df['feature'] = df.apply(bytes_to_2d, axis=1)\n",
    "\n",
    "\n",
    "print(\"Example:\")\n",
    "print(f\"Shape: {df['feature'].iloc[0].shape}\")  \n",
    "print(f\"Data type: {df['feature'].iloc[0].dtype}\")  # float32\n"
   ]
  },
  {
   "cell_type": "code",
   "execution_count": null,
   "metadata": {},
   "outputs": [],
   "source": [
    "\n",
    "from sklearn.preprocessing import LabelEncoder\n",
    "from sklearn.model_selection import train_test_split\n",
    "\n",
    "# reshape for CNN\n",
    "X = np.stack(df['feature'].values)\n",
    "X = X[..., np.newaxis]  # add channel dimension\n",
    "\n",
    "# transform label from string to numeric\n",
    "le = LabelEncoder()\n",
    "y = le.fit_transform(df['label'])\n",
    "\n",
    "X_train, X_test, y_train, y_test = train_test_split(\n",
    "    X, y, \n",
    "    test_size=0.2, \n",
    "    stratify=y,\n",
    "    random_state=42\n",
    ")\n",
    "\n",
    "print(f\"X_train shape: {X_train.shape}\")\n",
    "print(f\"y_train shape: {y_train.shape}\")"
   ]
  }
 ],
 "metadata": {
  "language_info": {
   "name": "python"
  }
 },
 "nbformat": 4,
 "nbformat_minor": 2
}
